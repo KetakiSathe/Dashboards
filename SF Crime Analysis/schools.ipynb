{
 "cells": [
  {
   "cell_type": "markdown",
   "metadata": {},
   "source": [
    "### script for web scraping and finding the reverse geocode for longitude/lattitude "
   ]
  },
  {
   "cell_type": "code",
   "execution_count": 182,
   "metadata": {},
   "outputs": [],
   "source": [
    "import requests"
   ]
  },
  {
   "cell_type": "code",
   "execution_count": 186,
   "metadata": {},
   "outputs": [],
   "source": [
    "import json\n",
    "import lxml\n",
    "\n",
    "import xmltodict\n",
    "import re\n",
    "from bs4 import CData"
   ]
  },
  {
   "cell_type": "code",
   "execution_count": 198,
   "metadata": {},
   "outputs": [],
   "source": [
    "final_schools = []\n",
    "    "
   ]
  },
  {
   "cell_type": "code",
   "execution_count": 200,
   "metadata": {},
   "outputs": [],
   "source": [
    "import csv\n",
    "with open('schools.csv', 'a') as csv_file:\n",
    "    csv_writer = csv.writer(csv_file)\n",
    "    for line in final_schools:\n",
    "        csv_writer.writerow(line)\n",
    "        "
   ]
  },
  {
   "cell_type": "code",
   "execution_count": 201,
   "metadata": {},
   "outputs": [],
   "source": [
    "### Get other schools data"
   ]
  },
  {
   "cell_type": "code",
   "execution_count": 202,
   "metadata": {},
   "outputs": [],
   "source": [
    "start_link = \"https://www.greatschools.org/gsr/api/schools/?city=San+Francisco&extras=students_per_teacher%2Creview_summary&limit=25&offset=0&sort=rating&state=CA&type=public%2Ccharter%2Cprivate&url=%2Fgsr%2Fapi%2Fschools&with_rating=false\"\n",
    "req = requests.get(start_link)\n",
    "data= re.sub(r'\\\\u0026', '&', req.text)\n",
    "jsonData = json.loads(data)"
   ]
  },
  {
   "cell_type": "code",
   "execution_count": 203,
   "metadata": {},
   "outputs": [
    {
     "data": {
      "text/plain": [
       "'https://www.greatschools.org/gsr/api/schools/?city=San+Francisco&extras=students_per_teacher%2Creview_summary&limit=25&offset=25&sort=rating&state=CA&type=public%2Ccharter%2Cprivate&url=%2Fgsr%2Fapi%2Fschools&with_rating=false'"
      ]
     },
     "execution_count": 203,
     "metadata": {},
     "output_type": "execute_result"
    }
   ],
   "source": [
    "jsonData['links']\n",
    "next_link = jsonData['links']['next']\n",
    "next_link"
   ]
  },
  {
   "cell_type": "code",
   "execution_count": 204,
   "metadata": {},
   "outputs": [
    {
     "name": "stdout",
     "output_type": "stream",
     "text": [
      "Processing link  https://www.greatschools.org/gsr/api/schools/?city=San+Francisco&extras=students_per_teacher%2Creview_summary&limit=25&offset=25&sort=rating&state=CA&type=public%2Ccharter%2Cprivate&url=%2Fgsr%2Fapi%2Fschools&with_rating=false\n",
      "Next to process https://www.greatschools.org/gsr/api/schools/?city=San+Francisco&extras=students_per_teacher%2Creview_summary&limit=25&offset=50&sort=rating&state=CA&type=public%2Ccharter%2Cprivate&url=%2Fgsr%2Fapi%2Fschools&with_rating=false\n",
      "Processing link  https://www.greatschools.org/gsr/api/schools/?city=San+Francisco&extras=students_per_teacher%2Creview_summary&limit=25&offset=50&sort=rating&state=CA&type=public%2Ccharter%2Cprivate&url=%2Fgsr%2Fapi%2Fschools&with_rating=false\n",
      "Next to process https://www.greatschools.org/gsr/api/schools/?city=San+Francisco&extras=students_per_teacher%2Creview_summary&limit=25&offset=75&sort=rating&state=CA&type=public%2Ccharter%2Cprivate&url=%2Fgsr%2Fapi%2Fschools&with_rating=false\n",
      "Processing link  https://www.greatschools.org/gsr/api/schools/?city=San+Francisco&extras=students_per_teacher%2Creview_summary&limit=25&offset=75&sort=rating&state=CA&type=public%2Ccharter%2Cprivate&url=%2Fgsr%2Fapi%2Fschools&with_rating=false\n",
      "Next to process https://www.greatschools.org/gsr/api/schools/?city=San+Francisco&extras=students_per_teacher%2Creview_summary&limit=25&offset=100&sort=rating&state=CA&type=public%2Ccharter%2Cprivate&url=%2Fgsr%2Fapi%2Fschools&with_rating=false\n",
      "Processing link  https://www.greatschools.org/gsr/api/schools/?city=San+Francisco&extras=students_per_teacher%2Creview_summary&limit=25&offset=100&sort=rating&state=CA&type=public%2Ccharter%2Cprivate&url=%2Fgsr%2Fapi%2Fschools&with_rating=false\n",
      "Next to process https://www.greatschools.org/gsr/api/schools/?city=San+Francisco&extras=students_per_teacher%2Creview_summary&limit=25&offset=125&sort=rating&state=CA&type=public%2Ccharter%2Cprivate&url=%2Fgsr%2Fapi%2Fschools&with_rating=false\n",
      "Processing link  https://www.greatschools.org/gsr/api/schools/?city=San+Francisco&extras=students_per_teacher%2Creview_summary&limit=25&offset=125&sort=rating&state=CA&type=public%2Ccharter%2Cprivate&url=%2Fgsr%2Fapi%2Fschools&with_rating=false\n",
      "Next to process https://www.greatschools.org/gsr/api/schools/?city=San+Francisco&extras=students_per_teacher%2Creview_summary&limit=25&offset=150&sort=rating&state=CA&type=public%2Ccharter%2Cprivate&url=%2Fgsr%2Fapi%2Fschools&with_rating=false\n",
      "Processing link  https://www.greatschools.org/gsr/api/schools/?city=San+Francisco&extras=students_per_teacher%2Creview_summary&limit=25&offset=150&sort=rating&state=CA&type=public%2Ccharter%2Cprivate&url=%2Fgsr%2Fapi%2Fschools&with_rating=false\n",
      "Next to process https://www.greatschools.org/gsr/api/schools/?city=San+Francisco&extras=students_per_teacher%2Creview_summary&limit=25&offset=175&sort=rating&state=CA&type=public%2Ccharter%2Cprivate&url=%2Fgsr%2Fapi%2Fschools&with_rating=false\n",
      "Processing link  https://www.greatschools.org/gsr/api/schools/?city=San+Francisco&extras=students_per_teacher%2Creview_summary&limit=25&offset=175&sort=rating&state=CA&type=public%2Ccharter%2Cprivate&url=%2Fgsr%2Fapi%2Fschools&with_rating=false\n",
      "Next to process https://www.greatschools.org/gsr/api/schools/?city=San+Francisco&extras=students_per_teacher%2Creview_summary&limit=25&offset=200&sort=rating&state=CA&type=public%2Ccharter%2Cprivate&url=%2Fgsr%2Fapi%2Fschools&with_rating=false\n",
      "Processing link  https://www.greatschools.org/gsr/api/schools/?city=San+Francisco&extras=students_per_teacher%2Creview_summary&limit=25&offset=200&sort=rating&state=CA&type=public%2Ccharter%2Cprivate&url=%2Fgsr%2Fapi%2Fschools&with_rating=false\n",
      "Next to process https://www.greatschools.org/gsr/api/schools/?city=San+Francisco&extras=students_per_teacher%2Creview_summary&limit=25&offset=225&sort=rating&state=CA&type=public%2Ccharter%2Cprivate&url=%2Fgsr%2Fapi%2Fschools&with_rating=false\n",
      "Processing link  https://www.greatschools.org/gsr/api/schools/?city=San+Francisco&extras=students_per_teacher%2Creview_summary&limit=25&offset=225&sort=rating&state=CA&type=public%2Ccharter%2Cprivate&url=%2Fgsr%2Fapi%2Fschools&with_rating=false\n",
      "Next to process https://www.greatschools.org/gsr/api/schools/?city=San+Francisco&extras=students_per_teacher%2Creview_summary&limit=25&offset=250&sort=rating&state=CA&type=public%2Ccharter%2Cprivate&url=%2Fgsr%2Fapi%2Fschools&with_rating=false\n",
      "Processing link  https://www.greatschools.org/gsr/api/schools/?city=San+Francisco&extras=students_per_teacher%2Creview_summary&limit=25&offset=250&sort=rating&state=CA&type=public%2Ccharter%2Cprivate&url=%2Fgsr%2Fapi%2Fschools&with_rating=false\n",
      "Next to process https://www.greatschools.org/gsr/api/schools/?city=San+Francisco&extras=students_per_teacher%2Creview_summary&limit=25&offset=275&sort=rating&state=CA&type=public%2Ccharter%2Cprivate&url=%2Fgsr%2Fapi%2Fschools&with_rating=false\n",
      "Processing link  https://www.greatschools.org/gsr/api/schools/?city=San+Francisco&extras=students_per_teacher%2Creview_summary&limit=25&offset=275&sort=rating&state=CA&type=public%2Ccharter%2Cprivate&url=%2Fgsr%2Fapi%2Fschools&with_rating=false\n",
      "Next to process https://www.greatschools.org/gsr/api/schools/?city=San+Francisco&extras=students_per_teacher%2Creview_summary&limit=25&offset=300&sort=rating&state=CA&type=public%2Ccharter%2Cprivate&url=%2Fgsr%2Fapi%2Fschools&with_rating=false\n",
      "Processing link  https://www.greatschools.org/gsr/api/schools/?city=San+Francisco&extras=students_per_teacher%2Creview_summary&limit=25&offset=300&sort=rating&state=CA&type=public%2Ccharter%2Cprivate&url=%2Fgsr%2Fapi%2Fschools&with_rating=false\n",
      "Next to process https://www.greatschools.org/gsr/api/schools/?city=San+Francisco&extras=students_per_teacher%2Creview_summary&limit=25&offset=325&sort=rating&state=CA&type=public%2Ccharter%2Cprivate&url=%2Fgsr%2Fapi%2Fschools&with_rating=false\n",
      "Processing link  https://www.greatschools.org/gsr/api/schools/?city=San+Francisco&extras=students_per_teacher%2Creview_summary&limit=25&offset=325&sort=rating&state=CA&type=public%2Ccharter%2Cprivate&url=%2Fgsr%2Fapi%2Fschools&with_rating=false\n",
      "Next to process https://www.greatschools.org/gsr/api/schools/?city=San+Francisco&extras=students_per_teacher%2Creview_summary&limit=25&offset=350&sort=rating&state=CA&type=public%2Ccharter%2Cprivate&url=%2Fgsr%2Fapi%2Fschools&with_rating=false\n",
      "Processing link  https://www.greatschools.org/gsr/api/schools/?city=San+Francisco&extras=students_per_teacher%2Creview_summary&limit=25&offset=350&sort=rating&state=CA&type=public%2Ccharter%2Cprivate&url=%2Fgsr%2Fapi%2Fschools&with_rating=false\n",
      "Next to process https://www.greatschools.org/gsr/api/schools/?city=San+Francisco&extras=students_per_teacher%2Creview_summary&limit=25&offset=375&sort=rating&state=CA&type=public%2Ccharter%2Cprivate&url=%2Fgsr%2Fapi%2Fschools&with_rating=false\n",
      "Processing link  https://www.greatschools.org/gsr/api/schools/?city=San+Francisco&extras=students_per_teacher%2Creview_summary&limit=25&offset=375&sort=rating&state=CA&type=public%2Ccharter%2Cprivate&url=%2Fgsr%2Fapi%2Fschools&with_rating=false\n",
      "Next to process https://www.greatschools.org/gsr/api/schools/?city=San+Francisco&extras=students_per_teacher%2Creview_summary&limit=25&offset=400&sort=rating&state=CA&type=public%2Ccharter%2Cprivate&url=%2Fgsr%2Fapi%2Fschools&with_rating=false\n",
      "Processing link  https://www.greatschools.org/gsr/api/schools/?city=San+Francisco&extras=students_per_teacher%2Creview_summary&limit=25&offset=400&sort=rating&state=CA&type=public%2Ccharter%2Cprivate&url=%2Fgsr%2Fapi%2Fschools&with_rating=false\n",
      "Next to process https://www.greatschools.org/gsr/api/schools/?city=San+Francisco&extras=students_per_teacher%2Creview_summary&limit=25&offset=425&sort=rating&state=CA&type=public%2Ccharter%2Cprivate&url=%2Fgsr%2Fapi%2Fschools&with_rating=false\n",
      "Processing link  https://www.greatschools.org/gsr/api/schools/?city=San+Francisco&extras=students_per_teacher%2Creview_summary&limit=25&offset=425&sort=rating&state=CA&type=public%2Ccharter%2Cprivate&url=%2Fgsr%2Fapi%2Fschools&with_rating=false\n",
      "Next to process https://www.greatschools.org/gsr/api/schools/?city=San+Francisco&extras=students_per_teacher%2Creview_summary&limit=25&offset=450&sort=rating&state=CA&type=public%2Ccharter%2Cprivate&url=%2Fgsr%2Fapi%2Fschools&with_rating=false\n",
      "Processing link  https://www.greatschools.org/gsr/api/schools/?city=San+Francisco&extras=students_per_teacher%2Creview_summary&limit=25&offset=450&sort=rating&state=CA&type=public%2Ccharter%2Cprivate&url=%2Fgsr%2Fapi%2Fschools&with_rating=false\n"
     ]
    },
    {
     "name": "stdout",
     "output_type": "stream",
     "text": [
      "Next to process https://www.greatschools.org/gsr/api/schools/?city=San+Francisco&extras=students_per_teacher%2Creview_summary&limit=25&offset=475&sort=rating&state=CA&type=public%2Ccharter%2Cprivate&url=%2Fgsr%2Fapi%2Fschools&with_rating=false\n",
      "Processing link  https://www.greatschools.org/gsr/api/schools/?city=San+Francisco&extras=students_per_teacher%2Creview_summary&limit=25&offset=475&sort=rating&state=CA&type=public%2Ccharter%2Cprivate&url=%2Fgsr%2Fapi%2Fschools&with_rating=false\n",
      "Next to process https://www.greatschools.org/gsr/api/schools/?city=San+Francisco&extras=students_per_teacher%2Creview_summary&limit=25&offset=500&sort=rating&state=CA&type=public%2Ccharter%2Cprivate&url=%2Fgsr%2Fapi%2Fschools&with_rating=false\n",
      "Processing link  https://www.greatschools.org/gsr/api/schools/?city=San+Francisco&extras=students_per_teacher%2Creview_summary&limit=25&offset=500&sort=rating&state=CA&type=public%2Ccharter%2Cprivate&url=%2Fgsr%2Fapi%2Fschools&with_rating=false\n",
      "Next to process https://www.greatschools.org/gsr/api/schools/?city=San+Francisco&extras=students_per_teacher%2Creview_summary&limit=25&offset=525&sort=rating&state=CA&type=public%2Ccharter%2Cprivate&url=%2Fgsr%2Fapi%2Fschools&with_rating=false\n",
      "Processing link  https://www.greatschools.org/gsr/api/schools/?city=San+Francisco&extras=students_per_teacher%2Creview_summary&limit=25&offset=525&sort=rating&state=CA&type=public%2Ccharter%2Cprivate&url=%2Fgsr%2Fapi%2Fschools&with_rating=false\n",
      "Next to process None\n"
     ]
    }
   ],
   "source": [
    "while next_link is not None:\n",
    "    print(\"Processing link \", next_link)\n",
    "    data = requests.get(next_link)\n",
    "    data = re.sub(r'\\\\u0026', '&',data.text)\n",
    "    jsonStr = json.loads(data)\n",
    "    next_link = jsonStr['links']['next']\n",
    "    for school in jsonStr['items']:\n",
    "        line = []\n",
    "        line.append(school['name'])\n",
    "        line.append(school['address']['city'] + school['address']['street1'])\n",
    "        line.append(school['address']['zip'])\n",
    "        line.append(school['schoolType'])\n",
    "        line.append(school['rating'])\n",
    "        line.append(school['lat'])\n",
    "        line.append(school['lon'])\n",
    "        final_schools.append(line)\n",
    "    \n",
    "        "
   ]
  },
  {
   "cell_type": "code",
   "execution_count": 205,
   "metadata": {},
   "outputs": [
    {
     "data": {
      "text/plain": [
       "528"
      ]
     },
     "execution_count": 205,
     "metadata": {},
     "output_type": "execute_result"
    }
   ],
   "source": [
    "len(final_schools)"
   ]
  },
  {
   "cell_type": "code",
   "execution_count": 206,
   "metadata": {},
   "outputs": [],
   "source": [
    "import csv\n",
    "with open('schools.csv', 'w') as csv_file:\n",
    "    csv_writer = csv.writer(csv_file)\n",
    "    csv_writer.writerow(['name', 'Address', 'zip', 'schoolType', 'rating', 'lat', 'lon'])\n",
    "    for line in final_schools:\n",
    "        csv_writer.writerow(line)"
   ]
  },
  {
   "cell_type": "code",
   "execution_count": 208,
   "metadata": {},
   "outputs": [],
   "source": [
    "import pandas as pd"
   ]
  },
  {
   "cell_type": "code",
   "execution_count": 3,
   "metadata": {},
   "outputs": [],
   "source": [
    "###this would give us the file.csv with all schools in schools.csv"
   ]
  },
  {
   "cell_type": "code",
   "execution_count": null,
   "metadata": {},
   "outputs": [],
   "source": [
    "### the crime data has logitude/lattitude but not zipcode, so we need to get the zip code from the long/lattitude.\n",
    "### we used HERE api which offers first 250k free transactions."
   ]
  },
  {
   "cell_type": "code",
   "execution_count": null,
   "metadata": {},
   "outputs": [],
   "source": [
    "with open('police_out.csv', \"w\") as f:\n",
    "    writer = csv.writer(f)   \n",
    "\n",
    "df_input = pd.read_csv('police.csv')\n",
    "\n",
    "df_input.shape\n",
    "\n",
    "\n",
    "df_test_6k = df_input[6802:10000]\n",
    "df_test_6k.to_csv('df_test_6802.csv', index=True)\n",
    "\n",
    "num = 10000\n",
    "df_test = []\n",
    "while num < 165885:\n",
    "    df_test = df_input[num:num + 10000]\n",
    "    print(df_test.shape, num)\n",
    "    df_test.to_csv('df_test_' + str(num) + \".csv\", index=True)\n",
    "    num += 10000\n",
    "    "
   ]
  },
  {
   "cell_type": "code",
   "execution_count": 5,
   "metadata": {},
   "outputs": [],
   "source": [
    "#########for each file we tried to run the folloing script as multiple processes.  (copied here just for understanding)"
   ]
  },
  {
   "cell_type": "code",
   "execution_count": null,
   "metadata": {},
   "outputs": [],
   "source": [
    "import requests\n",
    "import sys\n",
    "import json\n",
    "def update_csv_with_zip_code(csvfilename):\n",
    "    rownum = 0\n",
    "    import csv\n",
    "    all_lines = []\n",
    "    with open(csvfilename) as f, open(csvfilename + \".out.csv\", \"w\") as g:\n",
    "        reader = csv.reader(f)\n",
    "        writer = csv.writer(g)\n",
    "        for row in reader:\n",
    "            if rownum == 0:\n",
    "                rownum += 1\n",
    "                pass\n",
    "            else:\n",
    "                lat = row[24]\n",
    "                lon = row[25]\n",
    "                rownum += 1\n",
    "                line = row\n",
    "                line.append(get_zip_for_point(lat, lon))\n",
    "                all_lines.append(line)\n",
    "\n",
    "        for line in all_lines:\n",
    "            writer.writerow(line)\n",
    "\n",
    "def get_zip_for_point(lattitude, longitude):\n",
    "    link = 'https://reverse.geocoder.api.here.com/6.2/reversegeocode.json?prox='+lattitude+\"%2C\"+longitude+'%2C250&mode=retrieveAddresses&maxresults=1&gen=9&app_code=R16AjGFBYKOLX8ax5T6-yg&app_id=L6XIaPrZvRPC5uP8HQpS'\n",
    "    x = requests.get(link)\n",
    "    jsonData = json.loads(x.text)\n",
    "    return jsonData['Response']['View'][0]['Result'][0]['Location']['Address']['PostalCode']\n",
    "\n",
    "\n",
    "if __name__ == '__main__':\n",
    "    filename = sys.argv[1]\n",
    "    print(\"Processing filename\", filename)\n",
    "    update_csv_with_zip_code(filename)"
   ]
  },
  {
   "cell_type": "code",
   "execution_count": null,
   "metadata": {},
   "outputs": [],
   "source": []
  }
 ],
 "metadata": {
  "kernelspec": {
   "display_name": "Python 2",
   "language": "python",
   "name": "python2"
  },
  "language_info": {
   "codemirror_mode": {
    "name": "ipython",
    "version": 3
   },
   "file_extension": ".py",
   "mimetype": "text/x-python",
   "name": "python",
   "nbconvert_exporter": "python",
   "pygments_lexer": "ipython3",
   "version": "3.6.4"
  }
 },
 "nbformat": 4,
 "nbformat_minor": 2
}
